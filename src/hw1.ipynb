{
 "cells": [
  {
   "cell_type": "code",
   "execution_count": 32,
   "id": "8c4d1e98",
   "metadata": {},
   "outputs": [],
   "source": [
    "import math\n",
    "def answer1 (f):\n",
    "    lengths = []\n",
    "    length = 0\n",
    "    flag = False\n",
    "    for line in f: \n",
    "        if (line[0] == '>'):\n",
    "            if (flag):\n",
    "                lengths.append(length)\n",
    "            else:\n",
    "                flag = True\n",
    "            length = 0\n",
    "        else:\n",
    "            length += len(line.strip())\n",
    "    lengths.append(length)\n",
    "    lengths.sort(reverse = True)\n",
    "    print(f\"Общее количество: {len(lengths)}\")\n",
    "    print(f\"Длина самого длинного: {lengths[0]} \\n\")\n",
    "    total = 0\n",
    "    for line in lengths:\n",
    "        total += line\n",
    "    print(f\"Общая длина: {total} \\n\")\n",
    "    n50 = 0\n",
    "    for line in lengths:\n",
    "        n50+=line\n",
    "        if (n50 >= total/2):\n",
    "            print(f\"N50: {line}\")\n",
    "            break\n",
    "    return(\"RESULT\")"
   ]
  },
  {
   "cell_type": "code",
   "execution_count": 46,
   "id": "0be7b9c3",
   "metadata": {},
   "outputs": [],
   "source": [
    "def answer2 (f):\n",
    "    max_length = 0\n",
    "    length = 0\n",
    "    flag = False\n",
    "    cur_line = ''\n",
    "    max_line = ''\n",
    "    for line in f:\n",
    "        if (line[0] == '>'):\n",
    "            if (flag):\n",
    "                if (max_length < length):\n",
    "                    max_length = length\n",
    "                    max_line = cur_line\n",
    "                    \n",
    "            else:\n",
    "                flag = True\n",
    "            length = 0\n",
    "            cur_line = ''\n",
    "        else:\n",
    "            length += len(line.strip())\n",
    "            cur_line += line.strip()\n",
    "    if (max_length < length):\n",
    "        max_length = length\n",
    "        max_line = cur_line\n",
    "\n",
    "    length = 0\n",
    "    max_length = 0\n",
    "    lengths = 0\n",
    "    flag = True\n",
    "    for line in max_line:\n",
    "        if (line == 'N'):\n",
    "            length += 1\n",
    "            lengths += 1\n",
    "        if (line!='N'):\n",
    "            if (max_length<length):\n",
    "                max_length=length\n",
    "            length = 0\n",
    "    if (max_length<length):\n",
    "        max_length=length\n",
    "    print(f\"Длина самого длинного: {max_length} \\n\")\n",
    "    print(f\"Общая длина: {lengths} \\n\")\n",
    "    return(max_line)"
   ]
  },
  {
   "cell_type": "code",
   "execution_count": 34,
   "id": "8b0bcb91",
   "metadata": {},
   "outputs": [
    {
     "name": "stdout",
     "output_type": "stream",
     "text": [
      "Общее количество: 613\n",
      "Длина самого длинного: 179307 \n",
      "\n",
      "Общая длина: 3925632 \n",
      "\n",
      "N50: 52798\n"
     ]
    },
    {
     "data": {
      "text/plain": [
       "'RESULT'"
      ]
     },
     "execution_count": 34,
     "metadata": {},
     "output_type": "execute_result"
    }
   ],
   "source": [
    "contigs = open('contigs.fa', 'r')\n",
    "answer1(contigs)"
   ]
  },
  {
   "cell_type": "code",
   "execution_count": 35,
   "id": "cab0801c",
   "metadata": {
    "scrolled": true
   },
   "outputs": [
    {
     "name": "stdout",
     "output_type": "stream",
     "text": [
      "Общее количество: 66\n",
      "Длина самого длинного: 3832053 \n",
      "\n",
      "Общая длина: 3873086 \n",
      "\n",
      "N50: 3832053\n"
     ]
    },
    {
     "data": {
      "text/plain": [
       "'RESULT'"
      ]
     },
     "execution_count": 35,
     "metadata": {},
     "output_type": "execute_result"
    }
   ],
   "source": [
    "scaffold1 = open('out_scaffold.fa', 'r')\n",
    "answer1(scaffold1)"
   ]
  },
  {
   "cell_type": "code",
   "execution_count": 53,
   "id": "b126ac89",
   "metadata": {},
   "outputs": [
    {
     "name": "stdout",
     "output_type": "stream",
     "text": [
      "Длина самого длинного: 411 \n",
      "\n",
      "Общая длина: 6557 \n",
      "\n"
     ]
    }
   ],
   "source": [
    "scaffold2 = open('out_scaffold.fa', 'r')\n",
    "longest = answer2(scaffold2)"
   ]
  },
  {
   "cell_type": "code",
   "execution_count": 54,
   "id": "62da8d89",
   "metadata": {},
   "outputs": [
    {
     "data": {
      "text/plain": [
       "3832053"
      ]
     },
     "execution_count": 54,
     "metadata": {},
     "output_type": "execute_result"
    }
   ],
   "source": [
    "file = open('longest.fa', 'w')\n",
    "file.write(longest)"
   ]
  },
  {
   "cell_type": "code",
   "execution_count": 50,
   "id": "cd8ba841",
   "metadata": {},
   "outputs": [
    {
     "name": "stdout",
     "output_type": "stream",
     "text": [
      "Общее количество: 613\n",
      "Длина самого длинного: 179307 \n",
      "\n",
      "Общая длина: 3925632 \n",
      "\n",
      "N50: 52798\n"
     ]
    },
    {
     "data": {
      "text/plain": [
       "'RESULT'"
      ]
     },
     "execution_count": 50,
     "metadata": {},
     "output_type": "execute_result"
    }
   ],
   "source": [
    "out_scaffold1 = open('out_gapClosed.fa', 'r')\n",
    "answer1(out_scaffold1)"
   ]
  },
  {
   "cell_type": "code",
   "execution_count": 51,
   "id": "83a31427",
   "metadata": {},
   "outputs": [
    {
     "name": "stdout",
     "output_type": "stream",
     "text": [
      "Длина самого длинного: 0 \n",
      "\n",
      "Общая длина: 0 \n",
      "\n"
     ]
    }
   ],
   "source": [
    "out_scaffold2 = open('out_gapClosed.fa', 'r')\n",
    "longest = answer2(out_scaffold2)"
   ]
  },
  {
   "cell_type": "code",
   "execution_count": null,
   "id": "9e7e9fd8",
   "metadata": {},
   "outputs": [],
   "source": []
  }
 ],
 "metadata": {
  "kernelspec": {
   "display_name": "Python 3 (ipykernel)",
   "language": "python",
   "name": "python3"
  },
  "language_info": {
   "codemirror_mode": {
    "name": "ipython",
    "version": 3
   },
   "file_extension": ".py",
   "mimetype": "text/x-python",
   "name": "python",
   "nbconvert_exporter": "python",
   "pygments_lexer": "ipython3",
   "version": "3.11.5"
  }
 },
 "nbformat": 4,
 "nbformat_minor": 5
}
